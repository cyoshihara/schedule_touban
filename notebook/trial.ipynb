{
 "cells": [
  {
   "cell_type": "markdown",
   "metadata": {
    "vscode": {
     "languageId": "plaintext"
    }
   },
   "source": [
    "# initialize"
   ]
  },
  {
   "cell_type": "code",
   "execution_count": null,
   "metadata": {},
   "outputs": [],
   "source": [
    "import polars as pl\n",
    "import pulp\n",
    "import matplotlib.pyplot as plt\n",
    "import seaborn as sns"
   ]
  },
  {
   "cell_type": "markdown",
   "metadata": {},
   "source": [
    "# read data"
   ]
  },
  {
   "cell_type": "code",
   "execution_count": null,
   "metadata": {},
   "outputs": [],
   "source": [
    "df_mst_category = pl.read_csv(\"../data/mst_category.csv\")\n",
    "df_mst_gender = pl.read_csv(\"../data/mst_gender.csv\")\n",
    "df_mst_member = pl.read_csv(\"../data/mst_member.csv\")\n",
    "df_mst_parent = pl.read_csv(\"../data/mst_parent.csv\")\n",
    "df_mst_grade_category = pl.read_csv(\"../data/mst_grade_category.csv\")\n",
    "df_trn_parent = pl.read_csv(\"../data/trn_touban.csv\")\n"
   ]
  },
  {
   "cell_type": "markdown",
   "metadata": {},
   "source": [
    "# 前処理"
   ]
  },
  {
   "cell_type": "code",
   "execution_count": null,
   "metadata": {},
   "outputs": [],
   "source": [
    "# STAFFを除く\n",
    "df_mst_parent = df_mst_parent.with_columns( df_mst_parent[\"staff\"].fill_null(0) )\n",
    "df_mst_parent = df_mst_parent.filter( pl.col(\"staff\") == 0 )\n",
    "df_mst_parent"
   ]
  },
  {
   "cell_type": "markdown",
   "metadata": {},
   "source": [
    "# 中間テーブル作成"
   ]
  },
  {
   "cell_type": "code",
   "execution_count": null,
   "metadata": {},
   "outputs": [],
   "source": [
    "df_parent_attr = df_mst_parent.clone()\n",
    "# df_parent_attr.merge() \n",
    "# こどもを紐づけて、カテゴリフラグを付与\n",
    "df_parent_attr = df_parent_attr.join(df_mst_member, on=\"parent_id\", how=\"inner\")\n",
    "\n",
    "dict_gender = {0: \"m\", 1: \"f\"}\n",
    "dict_cat = {0: \"top\", 1: \"mid\", 2: \"und\"}\n",
    "\n",
    "for gender_k in dict_gender:\n",
    "  for cat_k in dict_cat:  \n",
    "    df_parent_attr = df_parent_attr.with_columns(\n",
    "      pl.when( (pl.col(\"gender\") == gender_k) & (pl.col(\"category\") == cat_k)) \n",
    "      .then(1)\n",
    "      .otherwise(0)\n",
    "      .alias(f\"{dict_gender[gender_k]}_{dict_cat[cat_k]}\") \n",
    "    )\n",
    "  for grade in range(1, 7):\n",
    "    df_parent_attr = df_parent_attr.with_columns(\n",
    "      pl.when( (pl.col(\"gender\") == gender_k) & (pl.col(\"grade\") == grade)) \n",
    "      .then(1)\n",
    "      .otherwise(0)\n",
    "      .alias(f\"{dict_gender[gender_k]}_{grade}\") \n",
    "    )\n",
    "df_parent_attr = df_parent_attr.select([\n",
    "  \"parent_id\", \"parent_name\", \"staff\", \"beginner\",\n",
    "  \"m_top\",\"m_mid\",\"m_und\",\"m_1\",\"m_2\",\"m_3\",\"m_4\",\"m_5\",\"m_6\",\"f_top\",\"f_mid\",\"f_und\",\"f_1\",\"f_2\",\"f_3\",\"f_4\",\"f_5\",\"f_6\"])\n",
    "df_parent_attr = df_parent_attr.group_by([\"parent_id\", \"parent_name\", \"staff\", \"beginner\"], maintain_order=True).sum()\n",
    "df_parent_attr.write_csv(\"../data/_intermediate_parent_attr.csv\")\n",
    "df_parent_attr"
   ]
  },
  {
   "cell_type": "markdown",
   "metadata": {},
   "source": [
    "# input読み込み"
   ]
  },
  {
   "cell_type": "code",
   "execution_count": null,
   "metadata": {},
   "outputs": [],
   "source": [
    "# 入力\n",
    "# 12月の予定\n",
    "df_input = pl.read_csv(\"../data/input.csv\")\n",
    "df_input"
   ]
  },
  {
   "cell_type": "markdown",
   "metadata": {},
   "source": [
    "# optimize\n",
    "\n",
    "## 仕様\n",
    "\n",
    "* input\n",
    "  * 計算したい月下記を与える\n",
    "    * 日\n",
    "    * 当番の人数\n",
    "    * 性別ごとのカテゴリまたは学年\n",
    "* output\n",
    "  * 各練習に当番の人の名前\n",
    "* 制約\n",
    "  * 当番の担当の数は年間で平準化する (合計担当数の最小化)\n",
    "  * 初心者はペアにしない\n",
    "  * 役員とコーチは当番対象としてカウントしない"
   ]
  },
  {
   "cell_type": "code",
   "execution_count": null,
   "metadata": {},
   "outputs": [],
   "source": [
    "prob = pulp.LpProblem(\"opt\", sense=pulp.const.LpMinimize)\n",
    "\n",
    "parents = df_mst_parent[\"parent_id\"].to_list()\n",
    "days = df_input[\"id\"].to_list()\n",
    "cats = df_mst_grade_category[\"cat_name\"].to_list()\n",
    "\n",
    "# 決定変数\n",
    "parent_days = [(day, parent) for day in days for parent in parents ]\n",
    "x = pulp.LpVariable.dicts(\"x\", parent_days, cat=pulp.LpBinary)\n",
    "\n",
    "# 最大値と最小値を表す補助変数を定義\n",
    "x_count_by_parents = pulp.LpVariable.dict(\"x_count_by_parent\", parents, cat=pulp.LpInteger, lowBound=0)\n",
    "# x_count_by_parents = []\n",
    "# for parent in parents:\n",
    "#   x_count_by_parents.append(\n",
    "#     pulp.LpVariable(f\"x_count_by_parent{parent}\", lowBound=0)\n",
    "#   )\n",
    "max_count = pulp.LpVariable(\"max_count\", lowBound=0, cat=pulp.const.LpInteger)\n",
    "max_count.setInitialValue(0)\n",
    "min_count = pulp.LpVariable(\"min_count\", lowBound=0)\n",
    "\n",
    "# 目的関数\n",
    "# 最大値最小化問題\n",
    "prob.setObjective(\n",
    "  max_count\n",
    ")\n",
    "\n",
    "# 制約条件\n",
    "# 0. 補助変数 (parentごとの今月担当回数)\n",
    "for parent in parents:\n",
    "  prob.addConstraint(\n",
    "    x_count_by_parents[parent] == pulp.lpSum( x[day, parent] for day in days )\n",
    "  )\n",
    "\n",
    "# 0. 補助変数 (最大値)\n",
    "for parent in parents:\n",
    "  prob.addConstraint(\n",
    "    x_count_by_parents[parent] <= max_count\n",
    "  )\n",
    "\n",
    "# # 0. 最大値最小化でうまくいかなかったので、上から抑えた\n",
    "# for parent in parents:\n",
    "#   prob.addConstraint(\n",
    "#     x_count_by_parents[parent] <= 1\n",
    "#   )\n",
    "\n",
    "# 1. 各日の当番の人数は2名 (あとで人数を指定できるようにする)\n",
    "for day in days:\n",
    "  prob.addConstraint(\n",
    "    pulp.lpSum(\n",
    "      [ x[day, parent] for parent in parents ]\n",
    "    ) == 2\n",
    "  )\n",
    "\n",
    "# 準備\n",
    "dict_parent_cat_vs_flag = {}\n",
    "for parent in parents:\n",
    "  dict_parent_cat_vs_flag[parent] = {}\n",
    "  for cat in cats:\n",
    "    flag_for_parent_in_cat = df_parent_attr.filter(pl.col(\"parent_id\") == parent).select(cat).sum().to_series().to_list()[0]\n",
    "    dict_parent_cat_vs_flag[parent][cat] = flag_for_parent_in_cat\n",
    "\n",
    "dict_day_cat_vs_flag = {}\n",
    "for day in days:\n",
    "    dict_day_cat_vs_flag[day] = {}\n",
    "    for cat in cats:\n",
    "      # 今日のカテゴリのフラグ\n",
    "      flag_for_day_in_cat = df_input.filter( pl.col(\"id\") == day ).select(cat).sum().to_series().to_list()[0]\n",
    "      dict_day_cat_vs_flag[day][cat] = flag_for_day_in_cat\n",
    "# print(dict_day_cat_vs_flag)\n",
    "\n",
    "# 2. 各dayの該当カテゴリにのみアサイン\n",
    "for day in days:\n",
    "  for parent in parents:\n",
    "    prob.addConstraint(\n",
    "      x[day, parent] <= ( \n",
    "        dict_parent_cat_vs_flag[parent][cat] * dict_day_cat_vs_flag[day][cat]\n",
    "        for cat in cats\n",
    "      )\n",
    "    )\n",
    "\n",
    "# 3. 初心者は一人にしない\n",
    "\n",
    "\n",
    "# 4. 同じ日に当番にしない\n",
    "\n",
    "\n",
    "# 5. Staffは対象外\n",
    "# 前処理で対応済\n",
    "\n",
    "# ----------------------------------------\n",
    "# solve\n",
    "result = prob.solve()\n",
    "print(pulp.LpStatus[result])\n",
    "\n",
    "# ----------------------------------------\n",
    "# 結果出力\n",
    "dict_parent = dict(zip(df_mst_parent['parent_id'].to_list(), df_mst_parent['parent_name'].to_list()))\n",
    "for day in days:\n",
    "  touban = []\n",
    "  for parent in parents:\n",
    "    if x[day, parent].value() == 1:\n",
    "      # print(f\"{day} {parent}\")  \n",
    "      touban.append(dict_parent[parent])\n",
    "  print(f\"{day}: {touban}\")\n",
    "\n",
    "print(max_count.value())\n",
    "print(min_count.value())\n",
    "\n",
    "maxvavava = 0\n",
    "for parent in parents:\n",
    "  print(dict_parent[parent], x_count_by_parents[parent].value())\n",
    "  if maxvavava < x_count_by_parents[parent].value():\n",
    "    maxvavava = x_count_by_parents[parent].value()\n",
    "print(f\"max: {maxvavava}\")\n"
   ]
  },
  {
   "cell_type": "code",
   "execution_count": null,
   "metadata": {},
   "outputs": [],
   "source": []
  }
 ],
 "metadata": {
  "kernelspec": {
   "display_name": ".venv",
   "language": "python",
   "name": "python3"
  },
  "language_info": {
   "codemirror_mode": {
    "name": "ipython",
    "version": 3
   },
   "file_extension": ".py",
   "mimetype": "text/x-python",
   "name": "python",
   "nbconvert_exporter": "python",
   "pygments_lexer": "ipython3",
   "version": "3.12.7"
  }
 },
 "nbformat": 4,
 "nbformat_minor": 2
}
